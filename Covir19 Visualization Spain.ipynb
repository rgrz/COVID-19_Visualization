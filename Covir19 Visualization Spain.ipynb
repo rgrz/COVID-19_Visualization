{
 "cells": [
  {
   "cell_type": "code",
   "execution_count": 1,
   "metadata": {},
   "outputs": [],
   "source": [
    "import os \n",
    "import glob\n",
    "import re\n",
    "import numpy as np\n",
    "import pandas as pd\n",
    "import matplotlib.pyplot as plt\n",
    "%matplotlib qt\n",
    "\n",
    "os.environ['PROJ_LIB'] = '/home/rgrz/anaconda3/envs/mydev/share/proj/'\n",
    "from mpl_toolkits.basemap import Basemap"
   ]
  },
  {
   "cell_type": "code",
   "execution_count": 54,
   "metadata": {},
   "outputs": [],
   "source": [
    "cities = pd.read_csv('data/geoloc.csv')\n",
    "filenames = glob.glob(\"data/covi*.csv\")\n",
    "notaspremsa = pd.read_csv('data/notaspremsa.csv', delimiter='\\t')\n",
    "notaspremsa.fillna(\"\", inplace = True)\n",
    "\n",
    "lat = cities['latd'].values\n",
    "lon = cities['longd'].values"
   ]
  },
  {
   "cell_type": "code",
   "execution_count": 55,
   "metadata": {},
   "outputs": [
    {
     "data": {
      "text/html": [
       "<div>\n",
       "<style scoped>\n",
       "    .dataframe tbody tr th:only-of-type {\n",
       "        vertical-align: middle;\n",
       "    }\n",
       "\n",
       "    .dataframe tbody tr th {\n",
       "        vertical-align: top;\n",
       "    }\n",
       "\n",
       "    .dataframe thead th {\n",
       "        text-align: right;\n",
       "    }\n",
       "</style>\n",
       "<table border=\"1\" class=\"dataframe\">\n",
       "  <thead>\n",
       "    <tr style=\"text-align: right;\">\n",
       "      <th></th>\n",
       "      <th>Date</th>\n",
       "      <th>Notas</th>\n",
       "    </tr>\n",
       "  </thead>\n",
       "  <tbody>\n",
       "    <tr>\n",
       "      <th>0</th>\n",
       "      <td>03/03/20</td>\n",
       "      <td>El Ministerio de Sanidad y las CCAA recomienda...</td>\n",
       "    </tr>\n",
       "    <tr>\n",
       "      <th>1</th>\n",
       "      <td>04/03/20</td>\n",
       "      <td>Dados de alta los repatriados procedentes de W...</td>\n",
       "    </tr>\n",
       "    <tr>\n",
       "      <th>2</th>\n",
       "      <td>05/03/20</td>\n",
       "      <td></td>\n",
       "    </tr>\n",
       "    <tr>\n",
       "      <th>3</th>\n",
       "      <td>06/03/20</td>\n",
       "      <td>Illa insta a la UE a garantizar la coherencia ...</td>\n",
       "    </tr>\n",
       "    <tr>\n",
       "      <th>4</th>\n",
       "      <td>07/03/20</td>\n",
       "      <td></td>\n",
       "    </tr>\n",
       "  </tbody>\n",
       "</table>\n",
       "</div>"
      ],
      "text/plain": [
       "       Date                                              Notas\n",
       "0  03/03/20  El Ministerio de Sanidad y las CCAA recomienda...\n",
       "1  04/03/20  Dados de alta los repatriados procedentes de W...\n",
       "2  05/03/20                                                   \n",
       "3  06/03/20  Illa insta a la UE a garantizar la coherencia ...\n",
       "4  07/03/20                                                   "
      ]
     },
     "execution_count": 55,
     "metadata": {},
     "output_type": "execute_result"
    }
   ],
   "source": [
    "\n",
    "notaspremsa.head()"
   ]
  },
  {
   "cell_type": "code",
   "execution_count": 89,
   "metadata": {},
   "outputs": [
    {
     "name": "stderr",
     "output_type": "stream",
     "text": [
      "/home/rgrz/anaconda3/envs/mydev/lib/python3.7/site-packages/ipykernel_launcher.py:11: MatplotlibDeprecationWarning: \n",
      "The dedent function was deprecated in Matplotlib 3.1 and will be removed in 3.3. Use inspect.cleandoc instead.\n",
      "  # This is added back by InteractiveShellApp.init_path()\n",
      "/home/rgrz/anaconda3/envs/mydev/lib/python3.7/site-packages/ipykernel_launcher.py:14: MatplotlibDeprecationWarning: \n",
      "The dedent function was deprecated in Matplotlib 3.1 and will be removed in 3.3. Use inspect.cleandoc instead.\n",
      "  \n",
      "/home/rgrz/anaconda3/envs/mydev/lib/python3.7/site-packages/ipykernel_launcher.py:19: RuntimeWarning: divide by zero encountered in log\n"
     ]
    }
   ],
   "source": [
    "from matplotlib.legend import Legend\n",
    "from mpl_toolkits.axes_grid1.inset_locator import zoomed_inset_axes\n",
    "from mpl_toolkits.axes_grid1.inset_locator import mark_inset\n",
    "from matplotlib.legend import Legend\n",
    "\n",
    "for file in filenames[1:3]:\n",
    "    data = pd.read_csv(file)\n",
    "    fig = plt.figure()\n",
    "    ax = fig.add_subplot()\n",
    "        \n",
    "    map = Basemap(llcrnrlon=-16.017853,llcrnrlat=32.312557,urcrnrlon=6.2700,urcrnrlat=44.8000, resolution = 'i', epsg=2062)\n",
    "    map.fillcontinents(color='#ffebd9', lake_color='#ecfbfc', zorder=0)\n",
    "    map.drawcoastlines(color='grey')\n",
    "    map.drawcountries(color='grey')\n",
    "    map.scatter(lon, lat, latlon=True,\n",
    "          c='tab:blue', s=np.log(data['Casos'])**3 + 20,\n",
    "          cmap='Blues', alpha=0.2)\n",
    "    map.scatter(lon, lat, latlon=True,\n",
    "          c='tab:red', s=np.log(data['Fallecidos'])**3 + 20,\n",
    "          cmap='Reds', alpha=0.3)\n",
    "   \n",
    "    # Text; Data, Data Source, Cities & Numbers\n",
    "    x, y = map(-16.3, 43.5)\n",
    "    date = re.findall('\\d', os.path.basename(file))\n",
    "    day = ''.join(date[0:2])\n",
    "    month = ''.join(date[2:4])\n",
    "    date = day + '/' + month + '/20'\n",
    "    nota = ''.join(notaspremsa[notaspremsa['Date'] == date]['Notas'])\n",
    "    #ax.text(x,y, day + '/' + month + '/2020: ' + nota, \n",
    "    #        fontsize=6, family='serif', bbox=dict(facecolor='grey', alpha=0.2),\n",
    "    #        ha='left',va='top',color='k', wrap=True)\n",
    "    #plt.text(5, 10, t, fontsize=18, style='oblique', ha='center',\n",
    "    #     va='top', wrap=True)\n",
    "    titlefont = {'fontsize': 6,\n",
    "                 'verticalalignment': 'baseline',\n",
    "                 'horizontalalignment': 'center'}\n",
    "\n",
    "    plt.title(day + '/' + month + '/2020: ' + nota, \n",
    "              fontdict=titlefont, wrap=True)\n",
    "              #, bbox=dict(facecolor='grey', alpha=0.2),\n",
    "            #ha='left',va='top',color='k', wrap=True)\n",
    "    x, y = map(3.3, 33.8)\n",
    "    ax.text(x,y, 'Data Source: Thankx @eclectikus', \n",
    "                 fontsize=4, ha='center',va='center',color='tab:gray')\n",
    "    x, y = map(3.9, 44.3)\n",
    "    ax.text(x,y, 'CCAA \\n (Casos-UCI-Fallecidos)', \n",
    "                 bbox=dict(facecolor='grey', alpha=0.1), fontsize=4, ha='center',va='center',color='tab:gray')\n",
    "    for idx in range(cities.shape[0]):\n",
    "        x, y = map(cities.iloc[idx]['longd'], cities.iloc[idx]['latd'])\n",
    "        ax.text(x,y, cities.iloc[idx]['CCAA'] \n",
    "                 # +'(' + str(x) + ',' + str(y) + ')' \n",
    "                 + '\\n(' + str(data.iloc[idx]['Casos']) + '-' \n",
    "                 + str(data.iloc[idx]['UCI']) + '-' \n",
    "                 + str(data.iloc[idx]['Fallecidos']) + ')', \n",
    "                 fontsize=3, fontweight='bold', ha='center',va='center',color='k')\n",
    "    \n",
    "    # make legend 1\n",
    "    for a in [10, 100, 1000, 10000]:\n",
    "        ax.scatter([], [], c='tab:blue', alpha=0.2, s=np.log(a)**3 + 20,\n",
    "                    label=\"{:,}\".format(a))\n",
    "        ax.legend(scatterpoints=1, loc='best', bbox_to_anchor=(0.02, 0.1, 0.5, 0.5), \n",
    "                   framealpha=0.1, frameon=False, title='Casos Detectados', title_fontsize=4,\n",
    "                   labelspacing=1.5, fontsize=4);\n",
    "        \n",
    "    # make legend 2\n",
    "    ax2 = fig.add_axes([0.3, 0.448, 0., 0.])\n",
    "    for a in [10, 100, 1000, 10000]:\n",
    "        #ax2.axis(option='off')\n",
    "        ax2.scatter([], [], c='r', alpha=0.2, s=np.log(a)**3 + 20,\n",
    "                    label=\"{:,}\".format(a))\n",
    "        plt.xticks(visible=False)\n",
    "        plt.yticks(visible=False)\n",
    "        ax2.legend(scatterpoints=1, loc='center right', #bbox_to_anchor=(0.02, 0.1, 0.5, 0.5), \n",
    "                   framealpha=0.1, frameon=False, title='Fallecidos', title_fontsize=4,\n",
    "                   labelspacing=1.5)\n",
    "    '''for a in [10, 100, 1000, 10000]:\n",
    "        leg = Legend(ax, lines[2:], ['line C', 'line D'],\n",
    "                     loc='lower right', frameon=False)\n",
    "        ax.add_artist(leg);'''\n",
    "    \n",
    "    output_file = 'img/im_' + month + '_' + day + '.png'\n",
    "    plt.savefig(output_file, bbox_inches='tight', dpi=240)        # save image\n",
    "    plt.show()\n",
    "    #plt.close('all')"
   ]
  },
  {
   "cell_type": "code",
   "execution_count": 80,
   "metadata": {},
   "outputs": [
    {
     "name": "stdout",
     "output_type": "stream",
     "text": [
      "1304099.2152183866, 973624.2713059791\n"
     ]
    }
   ],
   "source": [
    "print('{}, {}'.format(x, y))"
   ]
  },
  {
   "cell_type": "code",
   "execution_count": 34,
   "metadata": {},
   "outputs": [],
   "source": [
    "fig, ax = plt.subplots()\n",
    "\n",
    "lines = []\n",
    "styles = ['-', '--', '-.', ':']\n",
    "x = np.linspace(0, 10, 1000)\n",
    "\n",
    "for i in range(4):\n",
    "    lines += ax.plot(x, np.sin(x - i * np.pi / 2),\n",
    "                     styles[i], color='black')\n",
    "ax.axis('equal')\n",
    "\n",
    "# specify the lines and labels of the first legend\n",
    "ax.legend(lines[:2], ['line A', 'line B'],\n",
    "          loc='upper right', frameon=False)\n",
    "\n",
    "# Create the second legend and add the artist manually.\n",
    "from matplotlib.legend import Legend\n",
    "leg = Legend(ax, lines[2:], ['line C', 'line D'],\n",
    "             loc='lower right', frameon=False)\n",
    "ax.add_artist(leg);"
   ]
  },
  {
   "cell_type": "code",
   "execution_count": 60,
   "metadata": {},
   "outputs": [],
   "source": [
    "fig = plt.figure()\n",
    "plt.axis([0, 10, 0, 10])\n",
    "t = (\"This is a really long string that I'd rather have wrapped so that it \"\n",
    "     \"doesn't go outside of the figure, but if it's long enough it will go \"\n",
    "     \"off the top or bottom!\")\n",
    "#plt.text(4, 1, t, ha='left', rotation=15, wrap=True)\n",
    "#plt.text(6, 5, t, ha='left', rotation=15, wrap=True)\n",
    "#plt.text(5, 5, t, ha='right', rotation=-15, wrap=True)\n",
    "plt.text(5, 10, t, fontsize=18, style='oblique', ha='center',\n",
    "         va='top', wrap=True)\n",
    "plt.text(3, 4, t, family='serif', style='italic', ha='right', wrap=True)\n",
    "#plt.text(-1, 0, t, ha='left', rotation=-15, wrap=True)\n",
    "\n",
    "plt.show()"
   ]
  },
  {
   "cell_type": "code",
   "execution_count": 6,
   "metadata": {},
   "outputs": [],
   "source": [
    "# Generate a gif animation\n",
    "import imageio\n",
    "\n",
    "images = glob.glob(\"img/*.png\")\n",
    "images.sort()\n",
    "image_list = []\n",
    "for file_name in images:\n",
    "    image_list.append(imageio.imread(file_name))\n",
    "    \n",
    "duration = [n*(2.5/len(image_list)) + 1 for n in range(len(image_list))]\n",
    "\n",
    "imageio.mimwrite('img/covir19.gif', image_list, duration=duration)"
   ]
  },
  {
   "cell_type": "code",
   "execution_count": null,
   "metadata": {},
   "outputs": [],
   "source": []
  }
 ],
 "metadata": {
  "kernelspec": {
   "display_name": "Python 3",
   "language": "python",
   "name": "python3"
  },
  "language_info": {
   "codemirror_mode": {
    "name": "ipython",
    "version": 3
   },
   "file_extension": ".py",
   "mimetype": "text/x-python",
   "name": "python",
   "nbconvert_exporter": "python",
   "pygments_lexer": "ipython3",
   "version": "3.7.6"
  }
 },
 "nbformat": 4,
 "nbformat_minor": 4
}
